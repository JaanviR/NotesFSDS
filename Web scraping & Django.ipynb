{
 "cells": [
  {
   "cell_type": "markdown",
   "metadata": {},
   "source": [
    "### WebDriver  : It is an open source tool for automated testing of webapps across many browsers. It provides capabilities for navigating to web pages, user input, JavaScript execution, and more \n",
    "### WebDriver is also known as Selenium library of code containing the FindBys and Clicks and SendKeys code. \n",
    "\n",
    "### ChromeDriver : It is a library of code that controls the Chrome Browser. In order to create your test scripts, you need WebDriver. In order to control the Chrome Browser, you need ChromeDriver.\n",
    "\n",
    "\n",
    "\n"
   ]
  },
  {
   "cell_type": "markdown",
   "metadata": {},
   "source": [
    "### Django with MongoDB : check out the below link\n",
    "### https://www.mongodb.com/compatibility/mongodb-and-django"
   ]
  },
  {
   "cell_type": "code",
   "execution_count": null,
   "metadata": {},
   "outputs": [],
   "source": [
    "## Project files\n",
    "### manage.py file -->> allows you to run command line commands\n",
    "### __init__.py file --> this just tells python that __init__ is just a python package\n",
    "### wsgi.py file --> how our python web application and web server communicate\n",
    "\n",
    "## App files (which gets created as soon as you create an app), create app using the command python3 manage.py startapp appname\n",
    "### migration folder-->__init__.py file -->\n",
    "### admin.py\n",
    "### apps.py\n",
    "### models.py --> this is where we create database tables\n",
    "### tests.py\n",
    "### views.py --> place where you write logic(functions, classes etc., for your app)"
   ]
  }
 ],
 "metadata": {
  "kernelspec": {
   "display_name": "Python 3",
   "language": "python",
   "name": "python3"
  },
  "language_info": {
   "codemirror_mode": {
    "name": "ipython",
    "version": 3
   },
   "file_extension": ".py",
   "mimetype": "text/x-python",
   "name": "python",
   "nbconvert_exporter": "python",
   "pygments_lexer": "ipython3",
   "version": "3.8.5"
  }
 },
 "nbformat": 4,
 "nbformat_minor": 4
}
